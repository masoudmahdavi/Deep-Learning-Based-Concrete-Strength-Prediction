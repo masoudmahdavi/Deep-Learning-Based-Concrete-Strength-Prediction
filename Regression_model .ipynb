{
  "cells": [
    {
      "cell_type": "markdown",
      "source": [
        "# **Download and Clean Dataset**"
      ],
      "metadata": {
        "id": "wfrVZLzJGnbo"
      },
      "id": "wfrVZLzJGnbo"
    },
    {
      "cell_type": "markdown",
      "id": "a8fff6da",
      "metadata": {
        "id": "a8fff6da"
      },
      "source": [
        "#1. Install necessary packages:"
      ]
    },
    {
      "cell_type": "code",
      "execution_count": null,
      "id": "2fb2fa77",
      "metadata": {
        "id": "2fb2fa77",
        "colab": {
          "base_uri": "https://localhost:8080/"
        },
        "outputId": "8398c081-aa29-444c-950d-ec339f92b971"
      },
      "outputs": [
        {
          "output_type": "stream",
          "name": "stdout",
          "text": [
            "Requirement already satisfied: numpy in /usr/local/lib/python3.10/dist-packages (1.22.4)\n",
            "Requirement already satisfied: pandas in /usr/local/lib/python3.10/dist-packages (1.5.3)\n",
            "Requirement already satisfied: python-dateutil>=2.8.1 in /usr/local/lib/python3.10/dist-packages (from pandas) (2.8.2)\n",
            "Requirement already satisfied: pytz>=2020.1 in /usr/local/lib/python3.10/dist-packages (from pandas) (2022.7.1)\n",
            "Requirement already satisfied: numpy>=1.21.0 in /usr/local/lib/python3.10/dist-packages (from pandas) (1.22.4)\n",
            "Requirement already satisfied: six>=1.5 in /usr/local/lib/python3.10/dist-packages (from python-dateutil>=2.8.1->pandas) (1.16.0)\n",
            "Requirement already satisfied: keras in /usr/local/lib/python3.10/dist-packages (2.12.0)\n",
            "Requirement already satisfied: scikit-learn in /usr/local/lib/python3.10/dist-packages (1.2.2)\n",
            "Requirement already satisfied: numpy>=1.17.3 in /usr/local/lib/python3.10/dist-packages (from scikit-learn) (1.22.4)\n",
            "Requirement already satisfied: scipy>=1.3.2 in /usr/local/lib/python3.10/dist-packages (from scikit-learn) (1.10.1)\n",
            "Requirement already satisfied: joblib>=1.1.1 in /usr/local/lib/python3.10/dist-packages (from scikit-learn) (1.3.1)\n",
            "Requirement already satisfied: threadpoolctl>=2.0.0 in /usr/local/lib/python3.10/dist-packages (from scikit-learn) (3.1.0)\n"
          ]
        }
      ],
      "source": [
        "!pip install numpy\n",
        "!pip install pandas\n",
        "!pip install keras\n",
        "!pip install scikit-learn"
      ]
    },
    {
      "cell_type": "markdown",
      "id": "e4c04fa3",
      "metadata": {
        "id": "e4c04fa3"
      },
      "source": [
        "#2. Import necessary packages:"
      ]
    },
    {
      "cell_type": "code",
      "execution_count": 36,
      "id": "eb517faf",
      "metadata": {
        "id": "eb517faf"
      },
      "outputs": [],
      "source": [
        "import pandas as pd\n",
        "import numpy as np\n",
        "import keras\n",
        "import tensorflow as tf\n",
        "import matplotlib.pyplot as plt\n",
        "from keras.models import Sequential\n",
        "from keras.layers import Dense\n",
        "from keras.layers import Dropout\n",
        "from keras.layers import Normalization\n",
        "from sklearn.preprocessing import StandardScaler\n",
        "from sklearn.model_selection import train_test_split\n",
        "from sklearn.metrics import mean_squared_error\n",
        "from sklearn.metrics import mean_absolute_error\n",
        "plt.rcParams.update({'figure.figsize':(12,6), 'figure.dpi':80, 'axes.grid':True})"
      ]
    },
    {
      "cell_type": "markdown",
      "id": "7d19f99a",
      "metadata": {
        "id": "7d19f99a"
      },
      "source": [
        "#3. Download and read CSV data with Pandas"
      ]
    },
    {
      "cell_type": "code",
      "execution_count": 3,
      "id": "34877780",
      "metadata": {
        "scrolled": true,
        "id": "34877780",
        "colab": {
          "base_uri": "https://localhost:8080/",
          "height": 206
        },
        "outputId": "d2a4a600-2bd2-46ba-9f59-cfbcb17ed562"
      },
      "outputs": [
        {
          "output_type": "execute_result",
          "data": {
            "text/plain": [
              "   Cement  Blast Furnace Slag  Fly Ash  Water  Superplasticizer  \\\n",
              "0   540.0                 0.0      0.0  162.0               2.5   \n",
              "1   540.0                 0.0      0.0  162.0               2.5   \n",
              "2   332.5               142.5      0.0  228.0               0.0   \n",
              "3   332.5               142.5      0.0  228.0               0.0   \n",
              "4   198.6               132.4      0.0  192.0               0.0   \n",
              "\n",
              "   Coarse Aggregate  Fine Aggregate  Age  Strength  \n",
              "0            1040.0           676.0   28     79.99  \n",
              "1            1055.0           676.0   28     61.89  \n",
              "2             932.0           594.0  270     40.27  \n",
              "3             932.0           594.0  365     41.05  \n",
              "4             978.4           825.5  360     44.30  "
            ],
            "text/html": [
              "\n",
              "\n",
              "  <div id=\"df-c838228f-44cd-48ba-98d3-5ae2871fe90c\">\n",
              "    <div class=\"colab-df-container\">\n",
              "      <div>\n",
              "<style scoped>\n",
              "    .dataframe tbody tr th:only-of-type {\n",
              "        vertical-align: middle;\n",
              "    }\n",
              "\n",
              "    .dataframe tbody tr th {\n",
              "        vertical-align: top;\n",
              "    }\n",
              "\n",
              "    .dataframe thead th {\n",
              "        text-align: right;\n",
              "    }\n",
              "</style>\n",
              "<table border=\"1\" class=\"dataframe\">\n",
              "  <thead>\n",
              "    <tr style=\"text-align: right;\">\n",
              "      <th></th>\n",
              "      <th>Cement</th>\n",
              "      <th>Blast Furnace Slag</th>\n",
              "      <th>Fly Ash</th>\n",
              "      <th>Water</th>\n",
              "      <th>Superplasticizer</th>\n",
              "      <th>Coarse Aggregate</th>\n",
              "      <th>Fine Aggregate</th>\n",
              "      <th>Age</th>\n",
              "      <th>Strength</th>\n",
              "    </tr>\n",
              "  </thead>\n",
              "  <tbody>\n",
              "    <tr>\n",
              "      <th>0</th>\n",
              "      <td>540.0</td>\n",
              "      <td>0.0</td>\n",
              "      <td>0.0</td>\n",
              "      <td>162.0</td>\n",
              "      <td>2.5</td>\n",
              "      <td>1040.0</td>\n",
              "      <td>676.0</td>\n",
              "      <td>28</td>\n",
              "      <td>79.99</td>\n",
              "    </tr>\n",
              "    <tr>\n",
              "      <th>1</th>\n",
              "      <td>540.0</td>\n",
              "      <td>0.0</td>\n",
              "      <td>0.0</td>\n",
              "      <td>162.0</td>\n",
              "      <td>2.5</td>\n",
              "      <td>1055.0</td>\n",
              "      <td>676.0</td>\n",
              "      <td>28</td>\n",
              "      <td>61.89</td>\n",
              "    </tr>\n",
              "    <tr>\n",
              "      <th>2</th>\n",
              "      <td>332.5</td>\n",
              "      <td>142.5</td>\n",
              "      <td>0.0</td>\n",
              "      <td>228.0</td>\n",
              "      <td>0.0</td>\n",
              "      <td>932.0</td>\n",
              "      <td>594.0</td>\n",
              "      <td>270</td>\n",
              "      <td>40.27</td>\n",
              "    </tr>\n",
              "    <tr>\n",
              "      <th>3</th>\n",
              "      <td>332.5</td>\n",
              "      <td>142.5</td>\n",
              "      <td>0.0</td>\n",
              "      <td>228.0</td>\n",
              "      <td>0.0</td>\n",
              "      <td>932.0</td>\n",
              "      <td>594.0</td>\n",
              "      <td>365</td>\n",
              "      <td>41.05</td>\n",
              "    </tr>\n",
              "    <tr>\n",
              "      <th>4</th>\n",
              "      <td>198.6</td>\n",
              "      <td>132.4</td>\n",
              "      <td>0.0</td>\n",
              "      <td>192.0</td>\n",
              "      <td>0.0</td>\n",
              "      <td>978.4</td>\n",
              "      <td>825.5</td>\n",
              "      <td>360</td>\n",
              "      <td>44.30</td>\n",
              "    </tr>\n",
              "  </tbody>\n",
              "</table>\n",
              "</div>\n",
              "      <button class=\"colab-df-convert\" onclick=\"convertToInteractive('df-c838228f-44cd-48ba-98d3-5ae2871fe90c')\"\n",
              "              title=\"Convert this dataframe to an interactive table.\"\n",
              "              style=\"display:none;\">\n",
              "\n",
              "  <svg xmlns=\"http://www.w3.org/2000/svg\" height=\"24px\"viewBox=\"0 0 24 24\"\n",
              "       width=\"24px\">\n",
              "    <path d=\"M0 0h24v24H0V0z\" fill=\"none\"/>\n",
              "    <path d=\"M18.56 5.44l.94 2.06.94-2.06 2.06-.94-2.06-.94-.94-2.06-.94 2.06-2.06.94zm-11 1L8.5 8.5l.94-2.06 2.06-.94-2.06-.94L8.5 2.5l-.94 2.06-2.06.94zm10 10l.94 2.06.94-2.06 2.06-.94-2.06-.94-.94-2.06-.94 2.06-2.06.94z\"/><path d=\"M17.41 7.96l-1.37-1.37c-.4-.4-.92-.59-1.43-.59-.52 0-1.04.2-1.43.59L10.3 9.45l-7.72 7.72c-.78.78-.78 2.05 0 2.83L4 21.41c.39.39.9.59 1.41.59.51 0 1.02-.2 1.41-.59l7.78-7.78 2.81-2.81c.8-.78.8-2.07 0-2.86zM5.41 20L4 18.59l7.72-7.72 1.47 1.35L5.41 20z\"/>\n",
              "  </svg>\n",
              "      </button>\n",
              "\n",
              "\n",
              "\n",
              "    <div id=\"df-4166d477-f19c-4afd-b21e-fe97d1fe2f30\">\n",
              "      <button class=\"colab-df-quickchart\" onclick=\"quickchart('df-4166d477-f19c-4afd-b21e-fe97d1fe2f30')\"\n",
              "              title=\"Suggest charts.\"\n",
              "              style=\"display:none;\">\n",
              "\n",
              "<svg xmlns=\"http://www.w3.org/2000/svg\" height=\"24px\"viewBox=\"0 0 24 24\"\n",
              "     width=\"24px\">\n",
              "    <g>\n",
              "        <path d=\"M19 3H5c-1.1 0-2 .9-2 2v14c0 1.1.9 2 2 2h14c1.1 0 2-.9 2-2V5c0-1.1-.9-2-2-2zM9 17H7v-7h2v7zm4 0h-2V7h2v10zm4 0h-2v-4h2v4z\"/>\n",
              "    </g>\n",
              "</svg>\n",
              "      </button>\n",
              "    </div>\n",
              "\n",
              "<style>\n",
              "  .colab-df-quickchart {\n",
              "    background-color: #E8F0FE;\n",
              "    border: none;\n",
              "    border-radius: 50%;\n",
              "    cursor: pointer;\n",
              "    display: none;\n",
              "    fill: #1967D2;\n",
              "    height: 32px;\n",
              "    padding: 0 0 0 0;\n",
              "    width: 32px;\n",
              "  }\n",
              "\n",
              "  .colab-df-quickchart:hover {\n",
              "    background-color: #E2EBFA;\n",
              "    box-shadow: 0px 1px 2px rgba(60, 64, 67, 0.3), 0px 1px 3px 1px rgba(60, 64, 67, 0.15);\n",
              "    fill: #174EA6;\n",
              "  }\n",
              "\n",
              "  [theme=dark] .colab-df-quickchart {\n",
              "    background-color: #3B4455;\n",
              "    fill: #D2E3FC;\n",
              "  }\n",
              "\n",
              "  [theme=dark] .colab-df-quickchart:hover {\n",
              "    background-color: #434B5C;\n",
              "    box-shadow: 0px 1px 3px 1px rgba(0, 0, 0, 0.15);\n",
              "    filter: drop-shadow(0px 1px 2px rgba(0, 0, 0, 0.3));\n",
              "    fill: #FFFFFF;\n",
              "  }\n",
              "</style>\n",
              "\n",
              "    <script>\n",
              "      async function quickchart(key) {\n",
              "        const containerElement = document.querySelector('#' + key);\n",
              "        const charts = await google.colab.kernel.invokeFunction(\n",
              "            'suggestCharts', [key], {});\n",
              "      }\n",
              "    </script>\n",
              "\n",
              "      <script>\n",
              "\n",
              "function displayQuickchartButton(domScope) {\n",
              "  let quickchartButtonEl =\n",
              "    domScope.querySelector('#df-4166d477-f19c-4afd-b21e-fe97d1fe2f30 button.colab-df-quickchart');\n",
              "  quickchartButtonEl.style.display =\n",
              "    google.colab.kernel.accessAllowed ? 'block' : 'none';\n",
              "}\n",
              "\n",
              "        displayQuickchartButton(document);\n",
              "      </script>\n",
              "      <style>\n",
              "    .colab-df-container {\n",
              "      display:flex;\n",
              "      flex-wrap:wrap;\n",
              "      gap: 12px;\n",
              "    }\n",
              "\n",
              "    .colab-df-convert {\n",
              "      background-color: #E8F0FE;\n",
              "      border: none;\n",
              "      border-radius: 50%;\n",
              "      cursor: pointer;\n",
              "      display: none;\n",
              "      fill: #1967D2;\n",
              "      height: 32px;\n",
              "      padding: 0 0 0 0;\n",
              "      width: 32px;\n",
              "    }\n",
              "\n",
              "    .colab-df-convert:hover {\n",
              "      background-color: #E2EBFA;\n",
              "      box-shadow: 0px 1px 2px rgba(60, 64, 67, 0.3), 0px 1px 3px 1px rgba(60, 64, 67, 0.15);\n",
              "      fill: #174EA6;\n",
              "    }\n",
              "\n",
              "    [theme=dark] .colab-df-convert {\n",
              "      background-color: #3B4455;\n",
              "      fill: #D2E3FC;\n",
              "    }\n",
              "\n",
              "    [theme=dark] .colab-df-convert:hover {\n",
              "      background-color: #434B5C;\n",
              "      box-shadow: 0px 1px 3px 1px rgba(0, 0, 0, 0.15);\n",
              "      filter: drop-shadow(0px 1px 2px rgba(0, 0, 0, 0.3));\n",
              "      fill: #FFFFFF;\n",
              "    }\n",
              "  </style>\n",
              "\n",
              "      <script>\n",
              "        const buttonEl =\n",
              "          document.querySelector('#df-c838228f-44cd-48ba-98d3-5ae2871fe90c button.colab-df-convert');\n",
              "        buttonEl.style.display =\n",
              "          google.colab.kernel.accessAllowed ? 'block' : 'none';\n",
              "\n",
              "        async function convertToInteractive(key) {\n",
              "          const element = document.querySelector('#df-c838228f-44cd-48ba-98d3-5ae2871fe90c');\n",
              "          const dataTable =\n",
              "            await google.colab.kernel.invokeFunction('convertToInteractive',\n",
              "                                                     [key], {});\n",
              "          if (!dataTable) return;\n",
              "\n",
              "          const docLinkHtml = 'Like what you see? Visit the ' +\n",
              "            '<a target=\"_blank\" href=https://colab.research.google.com/notebooks/data_table.ipynb>data table notebook</a>'\n",
              "            + ' to learn more about interactive tables.';\n",
              "          element.innerHTML = '';\n",
              "          dataTable['output_type'] = 'display_data';\n",
              "          await google.colab.output.renderOutput(dataTable, element);\n",
              "          const docLink = document.createElement('div');\n",
              "          docLink.innerHTML = docLinkHtml;\n",
              "          element.appendChild(docLink);\n",
              "        }\n",
              "      </script>\n",
              "    </div>\n",
              "  </div>\n"
            ]
          },
          "metadata": {},
          "execution_count": 3
        }
      ],
      "source": [
        "concrete_data = pd.read_csv('https://s3-api.us-geo.objectstorage.softlayer.net/cf-courses-data/CognitiveClass/DL0101EN/labs/data/concrete_data.csv')\n",
        "concrete_data.head()"
      ]
    },
    {
      "cell_type": "markdown",
      "id": "bf04f6be",
      "metadata": {
        "id": "bf04f6be"
      },
      "source": [
        "#4. Split data to label and features"
      ]
    },
    {
      "cell_type": "code",
      "execution_count": 4,
      "id": "dcf28f6c",
      "metadata": {
        "id": "dcf28f6c"
      },
      "outputs": [],
      "source": [
        "label = concrete_data[['Strength']]\n",
        "features = concrete_data.loc[:, concrete_data.columns != 'Strength']"
      ]
    },
    {
      "cell_type": "markdown",
      "source": [
        "#5. Normalize features"
      ],
      "metadata": {
        "id": "UtcTVRgLNwZq"
      },
      "id": "UtcTVRgLNwZq"
    },
    {
      "cell_type": "code",
      "source": [
        "standard_features = StandardScaler().fit(features)\n",
        "features_normalized = pd.DataFrame(standard_features.transform(features), columns=features.columns)"
      ],
      "metadata": {
        "id": "HBlHVPsuNv_X"
      },
      "id": "HBlHVPsuNv_X",
      "execution_count": 5,
      "outputs": []
    },
    {
      "cell_type": "markdown",
      "id": "8a008afa",
      "metadata": {
        "id": "8a008afa"
      },
      "source": [
        "#6. Split data to  train and test"
      ]
    },
    {
      "cell_type": "code",
      "execution_count": 6,
      "id": "55cf8568",
      "metadata": {
        "id": "55cf8568"
      },
      "outputs": [],
      "source": [
        "X_train, X_test, y_train, y_test = train_test_split(features_normalized, label, test_size = 0.2)"
      ]
    },
    {
      "cell_type": "markdown",
      "source": [
        "# **Build a Neural Network**"
      ],
      "metadata": {
        "id": "-Kr2MrYaHci2"
      },
      "id": "-Kr2MrYaHci2"
    },
    {
      "cell_type": "markdown",
      "source": [
        "#1. Define regression model"
      ],
      "metadata": {
        "id": "-CW1-sAAFkgr"
      },
      "id": "-CW1-sAAFkgr"
    },
    {
      "cell_type": "code",
      "execution_count": 7,
      "id": "8d9cac24",
      "metadata": {
        "id": "8d9cac24"
      },
      "outputs": [],
      "source": [
        "def regression_model_2():\n",
        "    # create model\n",
        "    model = Sequential([\n",
        "    Dense(512, activation='relu', input_shape=(X_train.shape[1],)),\n",
        "    Dense(256, activation='relu'),\n",
        "    Dense(128, activation='relu'),\n",
        "    Dense(128, activation='relu'),\n",
        "    Dense(64, activation='relu'),\n",
        "    Dense(64, activation='relu'),\n",
        "    Dense(1)\n",
        "    ])\n",
        "\n",
        "    # compile model\n",
        "    model.compile(optimizer=tf.keras.optimizers.Adam(), loss='mean_squared_error')\n",
        "    return model"
      ]
    },
    {
      "cell_type": "markdown",
      "source": [
        "#2. Train and Test the Network"
      ],
      "metadata": {
        "id": "N_o89-tRGbOo"
      },
      "id": "N_o89-tRGbOo"
    },
    {
      "cell_type": "code",
      "source": [
        "model = regression_model_2()\n",
        "model.summary()"
      ],
      "metadata": {
        "id": "E3xByrBmH6KR",
        "colab": {
          "base_uri": "https://localhost:8080/"
        },
        "outputId": "a2fd5ffa-04df-4773-d849-86329ec01434"
      },
      "id": "E3xByrBmH6KR",
      "execution_count": 8,
      "outputs": [
        {
          "output_type": "stream",
          "name": "stdout",
          "text": [
            "Model: \"sequential\"\n",
            "_________________________________________________________________\n",
            " Layer (type)                Output Shape              Param #   \n",
            "=================================================================\n",
            " dense (Dense)               (None, 512)               4608      \n",
            "                                                                 \n",
            " dense_1 (Dense)             (None, 256)               131328    \n",
            "                                                                 \n",
            " dense_2 (Dense)             (None, 128)               32896     \n",
            "                                                                 \n",
            " dense_3 (Dense)             (None, 128)               16512     \n",
            "                                                                 \n",
            " dense_4 (Dense)             (None, 64)                8256      \n",
            "                                                                 \n",
            " dense_5 (Dense)             (None, 64)                4160      \n",
            "                                                                 \n",
            " dense_6 (Dense)             (None, 1)                 65        \n",
            "                                                                 \n",
            "=================================================================\n",
            "Total params: 197,825\n",
            "Trainable params: 197,825\n",
            "Non-trainable params: 0\n",
            "_________________________________________________________________\n"
          ]
        }
      ]
    },
    {
      "cell_type": "code",
      "source": [
        "history = model.fit(X_train, y_train, validation_split=0.3, epochs=100, verbose=2)"
      ],
      "metadata": {
        "colab": {
          "base_uri": "https://localhost:8080/"
        },
        "id": "42rN1cLe0qeL",
        "outputId": "906f122f-69e3-4765-fdcd-ae55922498ce"
      },
      "id": "42rN1cLe0qeL",
      "execution_count": 9,
      "outputs": [
        {
          "output_type": "stream",
          "name": "stdout",
          "text": [
            "Epoch 1/100\n",
            "18/18 - 5s - loss: 1227.1091 - val_loss: 303.2527 - 5s/epoch - 260ms/step\n",
            "Epoch 2/100\n",
            "18/18 - 0s - loss: 297.8297 - val_loss: 224.5265 - 271ms/epoch - 15ms/step\n",
            "Epoch 3/100\n",
            "18/18 - 0s - loss: 204.3118 - val_loss: 212.0266 - 419ms/epoch - 23ms/step\n",
            "Epoch 4/100\n",
            "18/18 - 0s - loss: 189.4118 - val_loss: 198.5179 - 318ms/epoch - 18ms/step\n",
            "Epoch 5/100\n",
            "18/18 - 0s - loss: 167.8269 - val_loss: 191.0012 - 238ms/epoch - 13ms/step\n",
            "Epoch 6/100\n",
            "18/18 - 0s - loss: 155.7908 - val_loss: 183.1862 - 245ms/epoch - 14ms/step\n",
            "Epoch 7/100\n",
            "18/18 - 0s - loss: 150.0234 - val_loss: 159.8962 - 304ms/epoch - 17ms/step\n",
            "Epoch 8/100\n",
            "18/18 - 0s - loss: 130.6006 - val_loss: 160.0384 - 300ms/epoch - 17ms/step\n",
            "Epoch 9/100\n",
            "18/18 - 0s - loss: 122.3071 - val_loss: 136.5355 - 239ms/epoch - 13ms/step\n",
            "Epoch 10/100\n",
            "18/18 - 0s - loss: 106.0447 - val_loss: 127.7432 - 288ms/epoch - 16ms/step\n",
            "Epoch 11/100\n",
            "18/18 - 0s - loss: 94.4728 - val_loss: 110.3308 - 279ms/epoch - 16ms/step\n",
            "Epoch 12/100\n",
            "18/18 - 0s - loss: 89.0964 - val_loss: 90.7072 - 420ms/epoch - 23ms/step\n",
            "Epoch 13/100\n",
            "18/18 - 0s - loss: 69.5816 - val_loss: 78.0608 - 463ms/epoch - 26ms/step\n",
            "Epoch 14/100\n",
            "18/18 - 0s - loss: 59.8836 - val_loss: 82.4516 - 270ms/epoch - 15ms/step\n",
            "Epoch 15/100\n",
            "18/18 - 0s - loss: 56.4653 - val_loss: 88.5084 - 278ms/epoch - 15ms/step\n",
            "Epoch 16/100\n",
            "18/18 - 0s - loss: 54.8663 - val_loss: 61.6713 - 275ms/epoch - 15ms/step\n",
            "Epoch 17/100\n",
            "18/18 - 0s - loss: 43.2726 - val_loss: 55.7471 - 309ms/epoch - 17ms/step\n",
            "Epoch 18/100\n",
            "18/18 - 0s - loss: 41.8382 - val_loss: 55.2135 - 225ms/epoch - 12ms/step\n",
            "Epoch 19/100\n",
            "18/18 - 0s - loss: 41.1881 - val_loss: 51.0355 - 324ms/epoch - 18ms/step\n",
            "Epoch 20/100\n",
            "18/18 - 0s - loss: 36.1609 - val_loss: 46.6499 - 334ms/epoch - 19ms/step\n",
            "Epoch 21/100\n",
            "18/18 - 0s - loss: 31.9584 - val_loss: 45.1870 - 272ms/epoch - 15ms/step\n",
            "Epoch 22/100\n",
            "18/18 - 0s - loss: 32.9940 - val_loss: 44.9853 - 303ms/epoch - 17ms/step\n",
            "Epoch 23/100\n",
            "18/18 - 0s - loss: 32.6098 - val_loss: 62.7209 - 339ms/epoch - 19ms/step\n",
            "Epoch 24/100\n",
            "18/18 - 0s - loss: 29.3589 - val_loss: 46.9267 - 369ms/epoch - 20ms/step\n",
            "Epoch 25/100\n",
            "18/18 - 0s - loss: 27.4139 - val_loss: 38.8781 - 411ms/epoch - 23ms/step\n",
            "Epoch 26/100\n",
            "18/18 - 0s - loss: 27.7536 - val_loss: 43.5436 - 336ms/epoch - 19ms/step\n",
            "Epoch 27/100\n",
            "18/18 - 0s - loss: 25.2465 - val_loss: 41.4597 - 388ms/epoch - 22ms/step\n",
            "Epoch 28/100\n",
            "18/18 - 1s - loss: 25.0663 - val_loss: 43.7000 - 511ms/epoch - 28ms/step\n",
            "Epoch 29/100\n",
            "18/18 - 0s - loss: 26.3301 - val_loss: 39.4371 - 404ms/epoch - 22ms/step\n",
            "Epoch 30/100\n",
            "18/18 - 0s - loss: 23.7893 - val_loss: 37.9551 - 221ms/epoch - 12ms/step\n",
            "Epoch 31/100\n",
            "18/18 - 0s - loss: 22.6425 - val_loss: 41.6479 - 199ms/epoch - 11ms/step\n",
            "Epoch 32/100\n",
            "18/18 - 0s - loss: 22.2463 - val_loss: 42.8958 - 150ms/epoch - 8ms/step\n",
            "Epoch 33/100\n",
            "18/18 - 0s - loss: 27.3357 - val_loss: 47.1604 - 152ms/epoch - 8ms/step\n",
            "Epoch 34/100\n",
            "18/18 - 0s - loss: 25.0339 - val_loss: 42.7251 - 155ms/epoch - 9ms/step\n",
            "Epoch 35/100\n",
            "18/18 - 0s - loss: 21.5614 - val_loss: 36.7776 - 132ms/epoch - 7ms/step\n",
            "Epoch 36/100\n",
            "18/18 - 0s - loss: 21.4435 - val_loss: 39.3668 - 151ms/epoch - 8ms/step\n",
            "Epoch 37/100\n",
            "18/18 - 0s - loss: 23.6883 - val_loss: 47.5658 - 142ms/epoch - 8ms/step\n",
            "Epoch 38/100\n",
            "18/18 - 0s - loss: 20.8822 - val_loss: 44.8320 - 151ms/epoch - 8ms/step\n",
            "Epoch 39/100\n",
            "18/18 - 0s - loss: 21.6159 - val_loss: 39.2550 - 132ms/epoch - 7ms/step\n",
            "Epoch 40/100\n",
            "18/18 - 0s - loss: 19.8399 - val_loss: 40.9641 - 142ms/epoch - 8ms/step\n",
            "Epoch 41/100\n",
            "18/18 - 0s - loss: 21.5357 - val_loss: 39.8623 - 146ms/epoch - 8ms/step\n",
            "Epoch 42/100\n",
            "18/18 - 0s - loss: 20.2266 - val_loss: 39.0622 - 140ms/epoch - 8ms/step\n",
            "Epoch 43/100\n",
            "18/18 - 0s - loss: 17.2393 - val_loss: 39.6179 - 143ms/epoch - 8ms/step\n",
            "Epoch 44/100\n",
            "18/18 - 0s - loss: 17.8891 - val_loss: 41.0205 - 146ms/epoch - 8ms/step\n",
            "Epoch 45/100\n",
            "18/18 - 0s - loss: 19.8986 - val_loss: 39.9714 - 147ms/epoch - 8ms/step\n",
            "Epoch 46/100\n",
            "18/18 - 0s - loss: 16.8279 - val_loss: 38.8962 - 128ms/epoch - 7ms/step\n",
            "Epoch 47/100\n",
            "18/18 - 0s - loss: 18.1365 - val_loss: 34.8435 - 156ms/epoch - 9ms/step\n",
            "Epoch 48/100\n",
            "18/18 - 0s - loss: 17.6414 - val_loss: 34.0499 - 129ms/epoch - 7ms/step\n",
            "Epoch 49/100\n",
            "18/18 - 0s - loss: 16.6861 - val_loss: 32.8703 - 125ms/epoch - 7ms/step\n",
            "Epoch 50/100\n",
            "18/18 - 0s - loss: 15.9822 - val_loss: 34.3646 - 136ms/epoch - 8ms/step\n",
            "Epoch 51/100\n",
            "18/18 - 0s - loss: 15.8976 - val_loss: 36.0262 - 143ms/epoch - 8ms/step\n",
            "Epoch 52/100\n",
            "18/18 - 0s - loss: 15.8292 - val_loss: 39.8992 - 156ms/epoch - 9ms/step\n",
            "Epoch 53/100\n",
            "18/18 - 0s - loss: 17.5439 - val_loss: 33.7260 - 130ms/epoch - 7ms/step\n",
            "Epoch 54/100\n",
            "18/18 - 0s - loss: 14.6618 - val_loss: 33.1313 - 162ms/epoch - 9ms/step\n",
            "Epoch 55/100\n",
            "18/18 - 0s - loss: 15.2435 - val_loss: 31.4066 - 146ms/epoch - 8ms/step\n",
            "Epoch 56/100\n",
            "18/18 - 0s - loss: 14.2590 - val_loss: 32.7894 - 147ms/epoch - 8ms/step\n",
            "Epoch 57/100\n",
            "18/18 - 0s - loss: 13.7017 - val_loss: 33.5467 - 137ms/epoch - 8ms/step\n",
            "Epoch 58/100\n",
            "18/18 - 0s - loss: 15.3452 - val_loss: 33.6327 - 133ms/epoch - 7ms/step\n",
            "Epoch 59/100\n",
            "18/18 - 0s - loss: 17.1126 - val_loss: 35.3113 - 150ms/epoch - 8ms/step\n",
            "Epoch 60/100\n",
            "18/18 - 0s - loss: 13.9904 - val_loss: 32.2457 - 128ms/epoch - 7ms/step\n",
            "Epoch 61/100\n",
            "18/18 - 0s - loss: 12.9628 - val_loss: 30.5622 - 152ms/epoch - 8ms/step\n",
            "Epoch 62/100\n",
            "18/18 - 0s - loss: 16.3894 - val_loss: 48.0984 - 137ms/epoch - 8ms/step\n",
            "Epoch 63/100\n",
            "18/18 - 0s - loss: 18.8533 - val_loss: 43.0335 - 142ms/epoch - 8ms/step\n",
            "Epoch 64/100\n",
            "18/18 - 0s - loss: 16.3258 - val_loss: 34.8505 - 143ms/epoch - 8ms/step\n",
            "Epoch 65/100\n",
            "18/18 - 0s - loss: 15.3717 - val_loss: 35.7132 - 143ms/epoch - 8ms/step\n",
            "Epoch 66/100\n",
            "18/18 - 0s - loss: 13.6408 - val_loss: 40.4704 - 145ms/epoch - 8ms/step\n",
            "Epoch 67/100\n",
            "18/18 - 0s - loss: 17.0671 - val_loss: 35.4838 - 131ms/epoch - 7ms/step\n",
            "Epoch 68/100\n",
            "18/18 - 0s - loss: 14.2030 - val_loss: 33.4816 - 158ms/epoch - 9ms/step\n",
            "Epoch 69/100\n",
            "18/18 - 0s - loss: 13.8200 - val_loss: 31.2006 - 138ms/epoch - 8ms/step\n",
            "Epoch 70/100\n",
            "18/18 - 0s - loss: 11.8471 - val_loss: 31.9896 - 147ms/epoch - 8ms/step\n",
            "Epoch 71/100\n",
            "18/18 - 0s - loss: 10.9764 - val_loss: 31.7345 - 142ms/epoch - 8ms/step\n",
            "Epoch 72/100\n",
            "18/18 - 0s - loss: 11.3077 - val_loss: 33.9463 - 140ms/epoch - 8ms/step\n",
            "Epoch 73/100\n",
            "18/18 - 0s - loss: 11.4793 - val_loss: 35.9506 - 140ms/epoch - 8ms/step\n",
            "Epoch 74/100\n",
            "18/18 - 0s - loss: 11.7803 - val_loss: 31.7606 - 136ms/epoch - 8ms/step\n",
            "Epoch 75/100\n",
            "18/18 - 0s - loss: 10.3649 - val_loss: 31.1840 - 152ms/epoch - 8ms/step\n",
            "Epoch 76/100\n",
            "18/18 - 0s - loss: 10.7071 - val_loss: 31.2416 - 151ms/epoch - 8ms/step\n",
            "Epoch 77/100\n",
            "18/18 - 0s - loss: 11.2203 - val_loss: 30.9724 - 143ms/epoch - 8ms/step\n",
            "Epoch 78/100\n",
            "18/18 - 0s - loss: 11.6698 - val_loss: 37.4352 - 145ms/epoch - 8ms/step\n",
            "Epoch 79/100\n",
            "18/18 - 0s - loss: 11.2170 - val_loss: 30.7167 - 147ms/epoch - 8ms/step\n",
            "Epoch 80/100\n",
            "18/18 - 0s - loss: 9.4051 - val_loss: 33.3842 - 136ms/epoch - 8ms/step\n",
            "Epoch 81/100\n",
            "18/18 - 0s - loss: 11.3093 - val_loss: 30.8004 - 136ms/epoch - 8ms/step\n",
            "Epoch 82/100\n",
            "18/18 - 0s - loss: 10.1134 - val_loss: 31.2546 - 156ms/epoch - 9ms/step\n",
            "Epoch 83/100\n",
            "18/18 - 0s - loss: 10.6135 - val_loss: 31.5347 - 176ms/epoch - 10ms/step\n",
            "Epoch 84/100\n",
            "18/18 - 0s - loss: 10.0052 - val_loss: 34.7533 - 137ms/epoch - 8ms/step\n",
            "Epoch 85/100\n",
            "18/18 - 0s - loss: 9.7778 - val_loss: 30.4264 - 148ms/epoch - 8ms/step\n",
            "Epoch 86/100\n",
            "18/18 - 0s - loss: 10.9946 - val_loss: 32.9400 - 148ms/epoch - 8ms/step\n",
            "Epoch 87/100\n",
            "18/18 - 0s - loss: 10.5229 - val_loss: 32.0597 - 141ms/epoch - 8ms/step\n",
            "Epoch 88/100\n",
            "18/18 - 0s - loss: 12.1176 - val_loss: 33.6834 - 165ms/epoch - 9ms/step\n",
            "Epoch 89/100\n",
            "18/18 - 0s - loss: 10.5132 - val_loss: 33.3287 - 150ms/epoch - 8ms/step\n",
            "Epoch 90/100\n",
            "18/18 - 0s - loss: 10.3715 - val_loss: 43.3816 - 151ms/epoch - 8ms/step\n",
            "Epoch 91/100\n",
            "18/18 - 0s - loss: 12.3904 - val_loss: 34.1275 - 147ms/epoch - 8ms/step\n",
            "Epoch 92/100\n",
            "18/18 - 0s - loss: 11.5802 - val_loss: 31.1015 - 161ms/epoch - 9ms/step\n",
            "Epoch 93/100\n",
            "18/18 - 0s - loss: 10.7997 - val_loss: 33.5129 - 154ms/epoch - 9ms/step\n",
            "Epoch 94/100\n",
            "18/18 - 0s - loss: 11.8018 - val_loss: 34.2305 - 188ms/epoch - 10ms/step\n",
            "Epoch 95/100\n",
            "18/18 - 0s - loss: 10.0759 - val_loss: 32.0658 - 144ms/epoch - 8ms/step\n",
            "Epoch 96/100\n",
            "18/18 - 0s - loss: 9.5475 - val_loss: 31.9058 - 147ms/epoch - 8ms/step\n",
            "Epoch 97/100\n",
            "18/18 - 0s - loss: 10.0862 - val_loss: 31.1783 - 143ms/epoch - 8ms/step\n",
            "Epoch 98/100\n",
            "18/18 - 0s - loss: 9.4627 - val_loss: 31.2177 - 242ms/epoch - 13ms/step\n",
            "Epoch 99/100\n",
            "18/18 - 0s - loss: 9.6492 - val_loss: 34.2246 - 232ms/epoch - 13ms/step\n",
            "Epoch 100/100\n",
            "18/18 - 0s - loss: 8.8211 - val_loss: 31.7809 - 269ms/epoch - 15ms/step\n"
          ]
        }
      ]
    },
    {
      "cell_type": "markdown",
      "source": [
        "#3. Evaluate the results"
      ],
      "metadata": {
        "id": "f3_ne4eRVJ6S"
      },
      "id": "f3_ne4eRVJ6S"
    },
    {
      "cell_type": "code",
      "source": [
        "loss = history.history[\"loss\"]\n",
        "val_loss = history.history[\"val_loss\"]\n",
        "plt.title(\"Loss\")\n",
        "plt.plot(loss, label=\"Train loss\")\n",
        "plt.plot(val_loss, label=\"Val_loss\")\n",
        "plt.legend()\n",
        "plt.show()"
      ],
      "metadata": {
        "colab": {
          "base_uri": "https://localhost:8080/",
          "height": 437
        },
        "id": "y7LyEFrmIvqB",
        "outputId": "9af848b6-7cb6-49b8-c80c-fa194f42f8e3"
      },
      "id": "y7LyEFrmIvqB",
      "execution_count": 31,
      "outputs": [
        {
          "output_type": "display_data",
          "data": {
            "text/plain": [
              "<Figure size 960x480 with 1 Axes>"
            ],
            "image/png": "[encoded data removed]"
          },
          "metadata": {}
        }
      ]
    },
    {
      "cell_type": "code",
      "source": [
        "predict = model.predict(X_test)\n",
        "MSE = mean_squared_error(y_test, predict)\n",
        "MAE = mean_absolute_error(y_test, predict)\n",
        "print(\"MSE: {}\\nMAE: {}\".format(MSE, MAE))"
      ],
      "metadata": {
        "colab": {
          "base_uri": "https://localhost:8080/"
        },
        "id": "WP_4XaOT1rSN",
        "outputId": "7c3f20bd-1cc9-4d60-988e-97744d6808c0"
      },
      "id": "WP_4XaOT1rSN",
      "execution_count": 38,
      "outputs": [
        {
          "output_type": "stream",
          "name": "stdout",
          "text": [
            "7/7 [==============================] - 0s 3ms/step\n",
            "MSE: 33.69087449906299\n",
            "MAE: 4.237610638720318\n"
          ]
        }
      ]
    }
  ],
  "metadata": {
    "kernelspec": {
      "display_name": "Python 3 (ipykernel)",
      "language": "python",
      "name": "python3"
    },
    "language_info": {
      "codemirror_mode": {
        "name": "ipython",
        "version": 3
      },
      "file_extension": ".py",
      "mimetype": "text/x-python",
      "name": "python",
      "nbconvert_exporter": "python",
      "pygments_lexer": "ipython3",
      "version": "3.9.12"
    },
    "colab": {
      "provenance": []
    }
  },
  "nbformat": 4,
  "nbformat_minor": 5
}